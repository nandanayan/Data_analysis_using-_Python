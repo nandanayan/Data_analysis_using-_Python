{
 "cells": [
  {
   "cell_type": "markdown",
   "metadata": {},
   "source": [
    "# Maximum number of emails deleted by ? and whats the count of it ?"
   ]
  },
  {
   "cell_type": "code",
   "execution_count": 3,
   "metadata": {
    "collapsed": true
   },
   "outputs": [],
   "source": [
    "import nltk\n",
    "from email.parser import Parser\n",
    "import os,glob"
   ]
  },
  {
   "cell_type": "code",
   "execution_count": 4,
   "metadata": {
    "collapsed": true
   },
   "outputs": [],
   "source": [
    "\n",
    "\n",
    "pathname = 'midterm/data/enron/maildir' #defining a relative path\n",
    "Buffer_name='' \n",
    "initial_count=1 \n"
   ]
  },
  {
   "cell_type": "code",
   "execution_count": 8,
   "metadata": {
    "collapsed": false
   },
   "outputs": [
    {
     "name": "stdout",
     "output_type": "stream",
     "text": [
      "highest number of mails were deletd by  kaminski-v: the count of deleted mail list is 1792\n"
     ]
    }
   ],
   "source": [
    "for f in os.listdir(pathname):\n",
    "    path1 = pathname+'/'+f+'/deleted_items' #this will help us drill drown each directories---each users folders--->accessing the delete items of each user\n",
    "    for filename in glob.glob(path1):\n",
    "        Final_count = len([personname for personname in os.listdir(path1)\n",
    "                if os.path.isfile(os.path.join(path1, personname))])\n",
    "           \n",
    "        if(initial_count<Final_count): #iterating the loop to calculate the count of the deleted mails\n",
    "            initial_count=Final_count\n",
    "            Buffer_name = f\n",
    "print(\"highest number of mails were deletd by  \"+Buffer_name+\": the count of deleted mail list is\",initial_count)"
   ]
  },
  {
   "cell_type": "markdown",
   "metadata": {},
   "source": [
    "# Most number of mails deleted by a particular User are related to which UserAccounts?"
   ]
  },
  {
   "cell_type": "code",
   "execution_count": 6,
   "metadata": {
    "collapsed": false
   },
   "outputs": [
    {
     "name": "stdout",
     "output_type": "stream",
     "text": [
      "[('arsystem@mailman.enron.com', 110), ('vkaminski@aol.com', 83), ('webmaster@cera.com', 53), ('no.address@enron.com', 47), ('shirley.crenshaw@enron.com', 42), ('info@pmaconference.com', 39), ('tradersummary@syncrasy.com', 39), ('ecenter@williams.com', 38), ('rebrooks@earthlink.net', 33), ('j.kaminski@enron.com', 25), ('newsletter@rigzone.com', 22), ('exchange.administrator@enron.com', 22), ('g..moore@enron.com', 22), ('linux@bdcimail.com', 19), ('alliance@eei.org', 17), ('anita.dupont@enron.com', 17), ('novellnetware@bdcimail.com', 17), ('enron_update@concureworkplace.com', 17), ('cbi_mail@igate.cbinet.com', 16), ('productreview@bdcimail.com', 15)]\n"
     ]
    }
   ],
   "source": [
    "import nltk\n",
    "import email\n",
    "import os\n",
    "import glob\n",
    "from email.parser import Parser\n",
    "from email.mime.text import MIMETextfrom collections import Counter \n",
    "from collections import Counter \n",
    "\n",
    "pathname = 'midterm/data/enron/maildir/kaminski-v/deleted_items' #accessing the deleted items of the user\n",
    "\n",
    "namelist = []\n",
    "names = {}\n",
    "\n",
    "\n",
    "def files():\n",
    "    for fname in os.listdir(pathname): #iterating through the list of sub directories\n",
    "        if os.path.isfile(os.path.join(pathname,fname)): \n",
    "            namelist.append(fname)\n",
    "    return namelist \n",
    "\n",
    "namelist=files()\n",
    "\n",
    "\n",
    "for filename in namelist:\n",
    "  \n",
    "    with open(pathname+'/'+filename) as x:\n",
    "        headers=Parser().parse(x)\n",
    "        fromadress=headers['From'] # initialising the variables for capturing the receiver and sender details of the deleted mail lists\n",
    "        toadress=headers['To']\n",
    "        if fromadress not in names: #calculating the count of deleted mails using the header fromadress declared varaiable.\n",
    "            names[fromadress]=1\n",
    "        else:\n",
    "            names[fromadress]+=1\n",
    "       \n",
    "\n",
    "c=Counter(names)\n",
    "print(c.most_common()[:20])"
   ]
  },
  {
   "cell_type": "markdown",
   "metadata": {},
   "source": [
    "# Number of mails deleted by each individual? Do  they also include internal business mails ----- Eron.com? Or External only?"
   ]
  },
  {
   "cell_type": "code",
   "execution_count": 20,
   "metadata": {
    "collapsed": false
   },
   "outputs": [],
   "source": [
    "import nltk\n",
    "import email\n",
    "from email.parser import Parser\n",
    "from email.mime.text import MIMEText\n",
    "import os,glob\n",
    "from collections import Counter \n",
    "import re\n",
    "from datetime import datetime,date,timedelta\n",
    "import csv\n",
    "\n",
    "pathname = 'midterm/data/enron/maildir'  #reference path\n",
    "filenames = []\n",
    "path1 = pathname\n",
    "pathdir =[]\n",
    "fromnames = {}\n",
    "\n",
    "def names(): #similar to above code:initialising the path directorys\n",
    "    for fname in os.listdir(pathname):\n",
    "        path1 = pathname+'/'+fname+'/deleted_items'#loopingh through the deleted_item files\n",
    "        if os.path.exists(path1): # if exists appending the path directory\n",
    "            pathdir.append(path1)\n",
    "    return pathdir\n",
    "    \n",
    "def files(pathname):\n",
    "    for fname in os.listdir(pathname):\n",
    "        if os.path.isfile(os.path.join(pathname,fname)):\n",
    "            filenames.append(fname)\n",
    "    return filenames \n",
    "\n",
    "\n",
    "pathdir = names()\n",
    "\n",
    "\n",
    "with open(\"DeleteAnalysis_Question1.csv\", \"w\",encoding='utf-8') as fp:\n",
    "        header=['From','DeletedInternalMailCount','deleteExternalMailCount'] #creating a .csv file for loading the output data \n",
    "        writer = csv.DictWriter(fp, fieldnames=header,lineterminator='\\n')\n",
    "        writer.writeheader()\n",
    "        for filename in pathdir:\n",
    "            internal = 0 #initialising the both variables to zero\n",
    "            external=0\n",
    "            for finame in (files(filename)):\n",
    "                with open(filename+'/'+finame) as fn:\n",
    "                    filenames=[]\n",
    "                  \n",
    "                    headers=Parser().parse(fn)\n",
    "                    fromname=headers['From']\n",
    "                    toname=headers['To']\n",
    "                    date = headers['Date']\n",
    "                 \n",
    "                    if fromname is not None:\n",
    "                            tonames=fromname.split(',')[0]\n",
    "                            if tonames is not None:\n",
    "                                    if (tonames.split(\"@\")[1]=='enron.com'):\n",
    "                                        type='internal'\n",
    "                                        internal+=1 #incrementing the count if the deleted items containing the enron.com\n",
    "                                    else:\n",
    "                                        type='external'\n",
    "                                        external+=1 #else the count be added to the external mail list channel\n",
    "                                    fromnames[toname]=fromname\n",
    "                    \n",
    "            writer.writerow({'From':fromname,\n",
    "                             'DeletedInternalMailCount': internal,\n",
    "                             'deleteExternalMailCount': external\n",
    "                                        })\n",
    "            fromnames={}"
   ]
  },
  {
   "cell_type": "markdown",
   "metadata": {},
   "source": [
    "# Emails Deleted with Keywords: "
   ]
  },
  {
   "cell_type": "code",
   "execution_count": 19,
   "metadata": {
    "collapsed": false
   },
   "outputs": [],
   "source": [
    "import glob\n",
    "import os\n",
    "import email\n",
    "from email.parser import Parser\n",
    "import json\n",
    "\n",
    "pathname='midterm/data/enron/maildir'\n",
    "\n",
    "filenames =[]\n",
    "filenames = []\n",
    "path1 = pathname\n",
    "pathdir =[]\n",
    "\n",
    "def names():\n",
    "    for fname in os.listdir(pathname):\n",
    "        path1 = pathname+'/'+fname+'/deleted_items' \n",
    "        if os.path.exists(path1):\n",
    "            pathdir.append(path1)\n",
    "    return pathdir\n",
    "\n",
    "\n",
    "def files(pathname):\n",
    "    for fname in os.listdir(pathname):\n",
    "        if os.path.isfile(os.path.join(pathname,fname)):\n",
    "            filenames.append(fname)\n",
    "    return filenames\n",
    "\n",
    "pathdir = names()\n",
    "\n",
    "\n",
    "with open(\"deleteAnalysis.txt\", \"w\") as outfile:\n",
    "    for filename in pathdir:\n",
    "        for finame in (files(filename)):\n",
    "            with open(filename+'/'+finame) as fn:\n",
    "                filenames=[]\n",
    "                headers=Parser().parse(fn)\n",
    "                fromname=headers['From']\n",
    "                toname=headers['To']\n",
    "                date = headers['Date']\n",
    "                subject = headers['Subject']\n",
    "           \n",
    "                if not (subject.find('solution') == -1):\n",
    "                    json.dump(headers.get_payload(),outfile)\n",
    "                    outfile.write('\\n')\n",
    "                    outfile.write('\\n')\n",
    "                if not (subject.find('requirement') == -1):\n",
    "                    json.dump(headers.get_payload(),outfile)\n",
    "                    outfile.write('\\n')\n",
    "                    outfile.write('\\n')\n",
    "                   \n",
    "                    "
   ]
  },
  {
   "cell_type": "code",
   "execution_count": null,
   "metadata": {
    "collapsed": false
   },
   "outputs": [],
   "source": []
  },
  {
   "cell_type": "code",
   "execution_count": null,
   "metadata": {
    "collapsed": true
   },
   "outputs": [],
   "source": []
  }
 ],
 "metadata": {
  "anaconda-cloud": {},
  "kernelspec": {
   "display_name": "Python [conda root]",
   "language": "python",
   "name": "conda-root-py"
  },
  "language_info": {
   "codemirror_mode": {
    "name": "ipython",
    "version": 3
   },
   "file_extension": ".py",
   "mimetype": "text/x-python",
   "name": "python",
   "nbconvert_exporter": "python",
   "pygments_lexer": "ipython3",
   "version": "3.5.2"
  }
 },
 "nbformat": 4,
 "nbformat_minor": 1
}
