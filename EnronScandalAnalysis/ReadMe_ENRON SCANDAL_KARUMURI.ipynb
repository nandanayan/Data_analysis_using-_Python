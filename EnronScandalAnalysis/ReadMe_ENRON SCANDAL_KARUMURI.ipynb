{
 "cells": [
  {
   "cell_type": "markdown",
   "metadata": {},
   "source": [
    "# Deleted messages often provide lot of important clues which can bring about an up twist in business downfall cases.\n",
    "\n",
    " If important messages about the company have been exchanged by the employee to some other parties or competitors then recovering deleted messages can cater culpable evidence. To find out whether there were any messages deleted from Enron Mail data set by a particular user may help us to simply perform Analysis for deep driving any confidential/valuable information shared between the employees or third party vendors. Analysis like >> is there any service level agreement violation discussions in the mail, resources or architectular business ideas shared to other parties? Bidding of the upcoming projects details.\n",
    " \n",
    " For this We perform three analysis:\n",
    " \n",
    " 1)\n",
    " # Maximum number of emails deleted by whom? and whats the count of it ?\n",
    " This Analysis will help us to identify the users with most number of deleted items.\n",
    " \n",
    " 2)\n",
    " # Most number of mails deleted by above Users are related to which UserAccounts?\n",
    " We can deep drill the analysis by finding which useraccount related mails are most ofently deleted by an User.\n",
    " This will help us to find that a Particular user is often deleting mails once he receives from the other user.\n",
    " This combination will help us to examine that whether are these two users exchanging any service level agreement violation discussions in the mail.\n",
    " \n",
    " 3)\n",
    " # Number of mails deleted by each individual? Do  they also include internal business mails ----- Eron.com? Or External only?\n",
    " \n",
    " To strengthen our analysis lets graph the number of mails deleted by each user. Lets seperate the mail list to two channels:\n",
    " one is internal mails\n",
    " other will be external mails\n",
    " \n",
    " This graph will allow us to compare the results from ANALYSIS 2:\n",
    " \n",
    " Is the deletion mail frequency bandwidth is similar to all or is any users bandwidth is out of bound.\n",
    " \n",
    " 4)\n",
    " # Emails Deleted with Sample Business Keywords\n",
    " \n",
    " There are few sample business keywords like: \"solution\" \"requirement\" \"rollback\"\n",
    " \"priority\" which will give us an useful information  for deep driving any confidential/valuable information shared between the employees or third party vendors. Which will also be a helping hand for the above analysis result set.\n",
    " \n",
    " \n",
    " \n",
    " "
   ]
  },
  {
   "cell_type": "code",
   "execution_count": null,
   "metadata": {
    "collapsed": true
   },
   "outputs": [],
   "source": []
  }
 ],
 "metadata": {
  "kernelspec": {
   "display_name": "Python [conda root]",
   "language": "python",
   "name": "conda-root-py"
  },
  "language_info": {
   "codemirror_mode": {
    "name": "ipython",
    "version": 3
   },
   "file_extension": ".py",
   "mimetype": "text/x-python",
   "name": "python",
   "nbconvert_exporter": "python",
   "pygments_lexer": "ipython3",
   "version": "3.5.2"
  }
 },
 "nbformat": 4,
 "nbformat_minor": 1
}
