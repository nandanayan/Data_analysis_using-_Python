{
 "cells": [
  {
   "cell_type": "code",
   "execution_count": 19,
   "metadata": {
    "collapsed": true
   },
   "outputs": [],
   "source": [
    "#importing nltk\n",
    "import nltk\n",
    "from nltk.corpus import nps_chat\n",
    "temp=nps_chat.fileids()"
   ]
  },
  {
   "cell_type": "code",
   "execution_count": 17,
   "metadata": {
    "collapsed": false
   },
   "outputs": [
    {
     "name": "stdout",
     "output_type": "stream",
     "text": [
      "132\n"
     ]
    }
   ],
   "source": [
    "\n",
    "\n",
    "#Number of posts by User121\n",
    "count=0\n",
    "word_list=[]\n",
    "from xml.etree import cElementTree as x\n",
    "for file in temp:\n",
    "    chat = nltk.corpus.nps_chat.raw(file)\n",
    "    temp1 = x.fromstring(chat)\n",
    "    for child in temp1.iter('Post'):\n",
    "        word_list.append(child.get('user'))\n",
    "npschat_word_set=set()\n",
    "for user in word_list:\n",
    "    if 'User121'in user:\n",
    "        count+=1\n",
    "print(count)\n",
    "\n"
   ]
  },
  {
   "cell_type": "code",
   "execution_count": 22,
   "metadata": {
    "collapsed": false
   },
   "outputs": [
    {
     "name": "stdout",
     "output_type": "stream",
     "text": [
      "{'30s': {'User30', 'User39', 'User3', 'User27', 'User44', 'User17', 'User33', 'User14', 'User24', 'User8', 'User42', 'User10', 'User45', 'User31', 'User35', 'User13', 'User32', 'User15', 'User38', 'User22', 'User34', 'User2', 'User28', 'User0', 'User41', 'User43', 'User5', 'User40', 'User36', 'User12', 'User37', 'User20', 'User18', 'User7', 'User23', 'User16', 'User21', 'User25', 'User9', 'User11', 'User19', 'User29', 'User26', 'User4'}, '40s': {'User76', 'User72', 'User69', 'User30', 'User49', 'User39', 'User70', 'User3', 'User54', 'User27', 'User62', 'User52', 'User44', 'User64', 'User73', 'User63', 'User65', 'User33', 'User17', 'User68', 'User53', 'User14', 'User24', 'User8', 'User42', 'User45', 'User50', 'User10', 'User31', 'User35', 'User13', 'User79', 'User32', 'User77', 'User15', 'User38', 'User22', 'User34', 'User2', 'User57', 'User60', 'User28', 'User0', 'User75', 'User41', 'User51', 'User43', 'User58', 'User5', 'User40', 'User46', 'User36', 'User12', 'User37', 'User55', 'User66', 'User20', 'User18', 'User7', 'User23', 'User6', 'User67', 'User16', 'User25', 'User21', 'User71', 'User9', 'User19', 'User11', 'User47', 'User1', 'User48', 'User61', 'User56', 'User29', 'User78', 'User26', 'User4', 'User59', 'User74'}, '20s': {'User76', 'User30', 'User119', 'User163', 'User62', 'User132', 'User87', 'User131', 'User134', 'User44', 'User73', 'User126', 'User174', 'User53', 'User175', 'User42', 'User128', 'User13', 'User38', 'User155', 'User28', 'User89', 'User151', 'User176', 'User164', 'User120', 'User158', 'User40', 'User117', 'User113', 'User133', 'User20', 'User177', 'User7', 'User115', 'User84', 'User67', 'User83', 'User16', 'User143', 'User159', 'User110', 'User47', 'User157', 'User56', 'User178', 'User72', 'User105', 'User150', 'User147', 'User140', 'User153', 'User179', 'User91', 'User173', 'User149', 'User138', 'User68', 'User33', 'User14', 'User129', 'User154', 'User31', 'User35', 'User100', 'User77', 'User136', 'User57', 'User141', 'User90', 'User41', 'User112', 'User162', 'User94', 'User171', 'User107', 'User6', 'User21', 'User49', 'User180', 'User166', 'User167', 'User74', 'User168', 'User69', 'User108', 'User102', 'User142', 'User114', 'User130', 'User135', 'User111', 'User127', 'User24', 'User109', 'User10', 'User145', 'User122', 'User148', 'User79', 'User125', 'User2', 'User0', 'User165', 'User43', 'User95', 'User116', 'User137', 'User55', 'User124', 'User66', 'User121', 'User106', 'User18', 'User23', 'User19', 'User156', 'User70', 'User65', 'User58', 'User9', 'User59', 'User104', 'User88', 'User3', 'User54', 'User27', 'User160', 'User52', 'User80', 'User64', 'User146', 'User63', 'User17', 'User50', 'User8', 'User170', 'User96', 'User32', 'User101', 'User144', 'User15', 'User34', 'User123', 'User161', 'User60', 'User152', 'User103', 'User51', 'User81', 'User169', 'User5', 'User172', 'User46', 'User12', 'User37', 'User82', 'User92', 'User11', 'User139', 'User1', 'User29'}}\n",
      "30s 44\n",
      "40s 80\n",
      "20s 162\n"
     ]
    }
   ],
   "source": [
    "#unique users in year\n",
    "temp=nltk.corpus.nps_chat.fileids()\n",
    "age=['20s','30s','40s']\n",
    "ageFiles={}\n",
    "for ages in age:\n",
    "    for id in temp:\n",
    "        if ages in id:\n",
    "            if ages not in ageFiles.keys():\n",
    "                ageFiles.setdefault(ages, [])\n",
    "                ageFiles[ages].append(id)\n",
    "            else:\n",
    "                ageFiles[ages].append(id)     \n",
    "dictionaryofage={}\n",
    "for element, count in ageFiles.items():\n",
    "    users=set()\n",
    "    for file_list in count:\n",
    "        segment = nltk.corpus.nps_chat.raw(file_list)\n",
    "        temp1 = x.fromstring(segment)\n",
    "        for child in temp1.iter('Post'):\n",
    "            users.add(child.get('user')[9:])\n",
    "    dictionaryofage[element]=users\n",
    "print(dictionaryofage)\n",
    "for element,count in dictionaryofage.items():\n",
    "    print(element, len(count))"
   ]
  },
  {
   "cell_type": "code",
   "execution_count": null,
   "metadata": {
    "collapsed": true
   },
   "outputs": [],
   "source": []
  }
 ],
 "metadata": {
  "kernelspec": {
   "display_name": "Python [conda root]",
   "language": "python",
   "name": "conda-root-py"
  },
  "language_info": {
   "codemirror_mode": {
    "name": "ipython",
    "version": 3
   },
   "file_extension": ".py",
   "mimetype": "text/x-python",
   "name": "python",
   "nbconvert_exporter": "python",
   "pygments_lexer": "ipython3",
   "version": "3.5.2"
  }
 },
 "nbformat": 4,
 "nbformat_minor": 1
}
