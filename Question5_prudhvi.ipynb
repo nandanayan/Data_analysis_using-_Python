{
 "cells": [
  {
   "cell_type": "code",
   "execution_count": 24,
   "metadata": {
    "collapsed": true
   },
   "outputs": [],
   "source": [
    "import nltk #importing nltk"
   ]
  },
  {
   "cell_type": "code",
   "execution_count": 25,
   "metadata": {
    "collapsed": true
   },
   "outputs": [],
   "source": [
    "\n",
    "\n",
    "#importing packages\n",
    "from nltk.corpus import gutenberg, webtext, stopwords\n",
    "\n"
   ]
  },
  {
   "cell_type": "code",
   "execution_count": 26,
   "metadata": {
    "collapsed": true
   },
   "outputs": [],
   "source": [
    "\n",
    "\n",
    "files= gutenberg.fileids()\n",
    "stopwords=stopwords.words('english')\n",
    "\n"
   ]
  },
  {
   "cell_type": "code",
   "execution_count": 27,
   "metadata": {
    "collapsed": false
   },
   "outputs": [
    {
     "data": {
      "text/plain": [
       "37032"
      ]
     },
     "execution_count": 27,
     "metadata": {},
     "output_type": "execute_result"
    }
   ],
   "source": [
    "#total count of words in all 3 shakespeare files\n",
    "shakespeare_words=[]\n",
    "for file in files:\n",
    "    if file.startswith('shakespeare'):\n",
    "        for word in gutenberg.words(file):\n",
    "            if word.isalpha():\n",
    "                if word.lower() not in stopwords:\n",
    "                    shakespeare_words.append(word)\n",
    "len(shakespeare_words)"
   ]
  },
  {
   "cell_type": "code",
   "execution_count": 28,
   "metadata": {
    "collapsed": false
   },
   "outputs": [
    {
     "name": "stdout",
     "output_type": "stream",
     "text": [
      "[('haue', 406), ('Ham', 337), ('Lord', 293), ('shall', 259), ('thou', 256), ('King', 231), ('Enter', 225), ('Caesar', 192), ('vs', 183), ('thy', 175), ('thee', 174), ('know', 169), ('good', 165), ('Brutus', 162), ('Bru', 153), ('come', 151), ('would', 142), ('like', 142), ('selfe', 139), ('Macb', 137), ('man', 132), ('well', 126), ('vpon', 126), ('let', 122), ('may', 121), ('must', 116), ('hath', 115), ('say', 113), ('st', 110), ('th', 108), ('Cassi', 107), ('Ile', 106), ('yet', 104), ('see', 104), ('time', 103), ('make', 102), ('one', 101), ('speake', 100), ('heere', 100), ('Hamlet', 99), ('Hor', 95), ('Let', 95), ('vp', 91), ('doe', 89), ('Sir', 89), ('men', 87), ('mine', 86), ('Cassius', 85), ('much', 83), ('Come', 81)]\n"
     ]
    }
   ],
   "source": [
    "\n",
    "\n",
    "#top 50 most frequently used  words\n",
    "most_words={}\n",
    "for x in shakespeare_words:\n",
    "    if x not in most_words:\n",
    "        most_words[x]=1\n",
    "    else:\n",
    "        most_words[x] +=1\n",
    "sorted_words=sorted(most_words.items(), key=lambda x: x[1], reverse=True)\n",
    "sorted_top50=sorted_words[0:50]\n",
    "print(sorted_top50)\n",
    "\n"
   ]
  },
  {
   "cell_type": "code",
   "execution_count": 29,
   "metadata": {
    "collapsed": false
   },
   "outputs": [
    {
     "name": "stdout",
     "output_type": "stream",
     "text": [
      "['Cookie', 'Manager', ':', '\"', 'Don', \"'\", 't', 'allow', 'sites', 'that']\n"
     ]
    }
   ],
   "source": [
    "#all words  webtext\n",
    "all_words=webtext.words()\n",
    "print(all_words[0:10])"
   ]
  },
  {
   "cell_type": "code",
   "execution_count": null,
   "metadata": {
    "collapsed": false
   },
   "outputs": [],
   "source": [
    "#top 5  words not used \n",
    "new_words=[]\n",
    "for x in sorted_top50:\n",
    "    if x[0] not in set(all_words):\n",
    "        new_words.append(x[0])  \n",
    "print(\"Top 5 not used words are:\")\n",
    "print(new_words[0:5])"
   ]
  },
  {
   "cell_type": "code",
   "execution_count": null,
   "metadata": {
    "collapsed": true
   },
   "outputs": [],
   "source": []
  },
  {
   "cell_type": "code",
   "execution_count": null,
   "metadata": {
    "collapsed": true
   },
   "outputs": [],
   "source": []
  }
 ],
 "metadata": {
  "kernelspec": {
   "display_name": "Python [conda root]",
   "language": "python",
   "name": "conda-root-py"
  },
  "language_info": {
   "codemirror_mode": {
    "name": "ipython",
    "version": 3
   },
   "file_extension": ".py",
   "mimetype": "text/x-python",
   "name": "python",
   "nbconvert_exporter": "python",
   "pygments_lexer": "ipython3",
   "version": "3.5.2"
  }
 },
 "nbformat": 4,
 "nbformat_minor": 1
}
