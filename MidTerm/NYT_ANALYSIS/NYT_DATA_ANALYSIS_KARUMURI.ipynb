{
 "cells": [
  {
   "cell_type": "markdown",
   "metadata": {},
   "source": [
    "# Using request library to download the data. Storing that JSON file in midterm/data/Archive folder"
   ]
  },
  {
   "cell_type": "code",
   "execution_count": 204,
   "metadata": {
    "collapsed": false
   },
   "outputs": [],
   "source": [
    "import pylab as plt\n",
    "from bs4 import BeautifulSoup\n",
    "from collections import Counter\n",
    "from nltk.tokenize import word_tokenize\n",
    "import requests\n",
    "import json\n",
    "import os\n",
    "import csv\n",
    "import re\n"
   ]
  },
  {
   "cell_type": "code",
   "execution_count": 205,
   "metadata": {
    "collapsed": false
   },
   "outputs": [],
   "source": [
    "\n",
    "relativePath = os.getcwd()\n",
    "\n",
    "apiKey = 'e31bc7e0e6ae4eaa88ce8784982924db'\n",
    "year = 2014\n",
    "month = 11 #taking a sample dataset\n",
    "\n",
    "url = \"https://api.nytimes.com/svc/archive/v1/\"+str(year)+\"/\"+str(month)+\".json?api-key=\"+apiKey\n",
    "response = requests.get(url)\n",
    "content  = response.json()\n",
    "\n",
    "with open(relativePath+\"/\"+'midterm/data/jsonData'+\"/\"+str(month)+\"-\"+str(year)+'.json', 'w') as file:\n",
    "    json.dump(content, file)#loading the dataset"
   ]
  },
  {
   "cell_type": "code",
   "execution_count": 206,
   "metadata": {
    "collapsed": false
   },
   "outputs": [
    {
     "name": "stdout",
     "output_type": "stream",
     "text": [
      "5206\n",
      "[(None, 2775), ('Politics', 451), ('Europe', 148), ('Asia Pacific', 143), ('DealBook', 136), ('Music', 124), ('Television', 121), ('Book Review', 105), ('Art & Design', 87), ('Middle East', 78)]\n"
     ]
    },
    {
     "data": {
      "image/png": "[encoded data removed]",
      "text/plain": [
       "<matplotlib.figure.Figure at 0x20016ac3c18>"
      ]
     },
     "metadata": {},
     "output_type": "display_data"
    }
   ],
   "source": [
    "\n",
    "path = relativePath+\"/\"+'midterm/data/Archive/jsonData'\n",
    "#category wise analysisng the data\n",
    "def getArticles(file, category):\n",
    "    config = json.loads(open(file).read())\n",
    "    for x in range(len(config['response']['docs'])):\n",
    "        section = config['response']['docs'][x]['subsection_name']\n",
    "        category.append(section)\n",
    "\n",
    "    #we have to append all the article to list\n",
    "    \n",
    "\n",
    "category = []\n",
    "for directory, subDirectory, filename in os.walk(path):\n",
    "    for file in filename:\n",
    "        getArticles(os.path.join(directory, file), category)\n",
    "\n",
    "print(len(category))\n",
    "\n",
    "fcount={} \n",
    "#by looping we are getting the count of every word and storing in Dictionary.\n",
    "\n",
    "for word in category:\n",
    "    count = fcount.get(word,0)\n",
    "    fcount[word] = count + 1\n",
    "\n",
    "sortedDict = sorted(fcount.items(), key=lambda x: (-x[1], x[0])) \n",
    "print(sortedDict[:10])\n",
    "\n",
    "\n",
    "i = 0\n",
    "oredering = []\n",
    "\n",
    "for rank in range(len(sortedDict)):\n",
    "    obj1 = sortedDict[rank]\n",
    "    obj1 = obj1 + (i,)\n",
    "    oredering.append(obj1) # we are giving rank to every section\n",
    "    i = i+1\n",
    "\n",
    "fileName = relativePath+\"/\"+'midterm/NYTS.csv'\n",
    "\n",
    "# Writing the data in to CSV file and storing in D drive.\n",
    "with open(fileName, 'w', newline='') as fp:\n",
    "    a = csv.writer(fp, delimiter=',')\n",
    "    a.writerow([\"Category\", \"Count\"])\n",
    "    a.writerows(oredering[:10])\n",
    "\n",
    "\n",
    "label = []\n",
    "y = []\n",
    "z = []\n",
    "\n",
    "with open(fileName,'r') as csvfile:\n",
    "    next(csvfile)\n",
    "    next(csvfile)\n",
    "    plots = csv.reader(csvfile, delimiter=',')\n",
    "    for row in plots:\n",
    "        label.append(row[0])\n",
    "        y.append(int(row[1]))\n",
    "        z.append(int(row[2]))\n",
    "        \n",
    "\n",
    "pieFig = relativePath+\"/\"+'midterm/Analysis2.png'\n",
    "\n",
    "plt.figure(figsize=(15,4))\n",
    "plt.bar(z, y, align='center')\n",
    "plt.xticks(z, label, rotation=90)\n",
    "plt.xlabel(\"ArticleTopCategories\")\n",
    "plt.ylabel(\"No:OfPosts\")\n",
    "plt.savefig(pieFig, bbox_inches='tight')\n",
    "plt.show()\n"
   ]
  },
  {
   "cell_type": "code",
   "execution_count": null,
   "metadata": {
    "collapsed": true
   },
   "outputs": [],
   "source": []
  },
  {
   "cell_type": "code",
   "execution_count": null,
   "metadata": {
    "collapsed": true
   },
   "outputs": [],
   "source": []
  }
 ],
 "metadata": {
  "kernelspec": {
   "display_name": "Python [conda root]",
   "language": "python",
   "name": "conda-root-py"
  },
  "language_info": {
   "codemirror_mode": {
    "name": "ipython",
    "version": 3
   },
   "file_extension": ".py",
   "mimetype": "text/x-python",
   "name": "python",
   "nbconvert_exporter": "python",
   "pygments_lexer": "ipython3",
   "version": "3.5.2"
  }
 },
 "nbformat": 4,
 "nbformat_minor": 1
}
