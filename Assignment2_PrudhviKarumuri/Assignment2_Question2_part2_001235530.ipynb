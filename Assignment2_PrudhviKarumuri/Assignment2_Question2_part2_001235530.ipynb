{
 "cells": [
  {
   "cell_type": "code",
   "execution_count": 44,
   "metadata": {
    "collapsed": true
   },
   "outputs": [],
   "source": [
    "\n",
    "import csv # to import csv file.\n",
    "\n",
    "import os #command used to create the directories\n",
    "import shutil #command used to move and copy the files\n",
    "import re \n",
    "import glob # read the files in the directory\n",
    "import json #reading the json type files\n"
   ]
  },
  {
   "cell_type": "code",
   "execution_count": 45,
   "metadata": {
    "collapsed": false
   },
   "outputs": [
    {
     "data": {
      "text/plain": [
       "{'AU', 'GB', 'NZ', 'US'}"
      ]
     },
     "execution_count": 45,
     "metadata": {},
     "output_type": "execute_result"
    }
   ],
   "source": [
    "orginalpath = os.getcwd() #The method getcwd() returns current working directory of a process.\n",
    "#giving the path of the json folder\n",
    "listOffiles = glob.glob('C:/Users/nanda/PYTHON1/DataAnalysis4Python_Spring17/Assignment 2/Data/*json')\n",
    "restuarantFile = []\n",
    "country = []\n",
    "\n",
    "for file in range(len(listOffiles)):\n",
    "    # json loads is use to read json data.\n",
    "    temp = json.loads(open(listOffiles[file]).read())\n",
    "    #checking if country has jsonkey and json file has hours \n",
    "    \n",
    "   \n",
    "    if temp['term'] == 'restaurants'and 'hours' in temp: #checking for jsonkey with country and json file has hours or not?\n",
    "        restuarantFile.append(listOffiles[file])\n",
    "        country.append(temp[\"location\"][\"country\"])\n",
    "    \n",
    "country_unique = set(country)\n",
    "country_unique"
   ]
  },
  {
   "cell_type": "code",
   "execution_count": 46,
   "metadata": {
    "collapsed": true
   },
   "outputs": [],
   "source": [
    "# restaurant start time and end time with split time frame\n",
    "\n",
    "country = []\n",
    "bonusFile = relativePath+folder+\"/\"+'restaurant.csv' \n",
    "as2 = []\n",
    "for country in sorted(country_unique):\n",
    "    for res in range(len(restuarantFile)):\n",
    "        temp = json.loads(open(restuarantFile[res]).read())\n",
    "        if temp['location']['country'] == country:\n",
    "            state = temp[\"location\"][\"state\"]\n",
    "            city =  temp[\"location\"][\"city\"]\n",
    "            fileName = restuarantFile[res][15:-5]\n",
    "            cleanFileName = re.sub('[^a-zA-Z \\n\\.]', ' ', fileName)\n",
    "            openKey = config['hours'][0]['open']\n",
    "            for x in range(len(openKey)):\n",
    "                day = openKey[x]['day']\n",
    "                startTime = openKey[x]['start']\n",
    "                \n",
    "                \n",
    "                # splitting start time\n",
    "                sHour = startTime[0:-2]\n",
    "                sMin = startTime[-2:]\n",
    "                \n",
    "                # splitting end time\n",
    "                endTime = openKey[x]['end']\n",
    "                eHour = endTime[0:-2]\n",
    "                eMin = endTime[-2:]\n",
    "                dataSet = (cleanFileName.strip(), city, country, day, sHour, sMin, eHour, eMin)\n",
    "                as2.append(dataSet)\n",
    "with open(bonusFile, 'w', newline='') as y:\n",
    "    a = csv.writer(y, delimiter=',')\n",
    "    a.writerow([\"Name\", \"City\", \"Country Code\", \"Days\", \"Start Time Hour\", \"Start Time Minute\", \"End Time Hour\", \"End Time Minute\"])\n",
    "    a.writerows(as2)\n",
    "    y.close()"
   ]
  },
  {
   "cell_type": "code",
   "execution_count": null,
   "metadata": {
    "collapsed": true
   },
   "outputs": [],
   "source": []
  },
  {
   "cell_type": "code",
   "execution_count": null,
   "metadata": {
    "collapsed": true
   },
   "outputs": [],
   "source": []
  }
 ],
 "metadata": {
  "kernelspec": {
   "display_name": "Python [conda root]",
   "language": "python",
   "name": "conda-root-py"
  },
  "language_info": {
   "codemirror_mode": {
    "name": "ipython",
    "version": 3
   },
   "file_extension": ".py",
   "mimetype": "text/x-python",
   "name": "python",
   "nbconvert_exporter": "python",
   "pygments_lexer": "ipython3",
   "version": "3.5.2"
  }
 },
 "nbformat": 4,
 "nbformat_minor": 1
}
