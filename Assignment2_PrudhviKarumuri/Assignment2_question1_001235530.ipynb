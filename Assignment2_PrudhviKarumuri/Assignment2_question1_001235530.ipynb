{
 "cells": [
  {
   "cell_type": "code",
   "execution_count": null,
   "metadata": {
    "collapsed": true
   },
   "outputs": [],
   "source": [
    "#  QUESTION 1:"
   ]
  },
  {
   "cell_type": "code",
   "execution_count": 1,
   "metadata": {
    "collapsed": true
   },
   "outputs": [],
   "source": [
    "import nltk"
   ]
  },
  {
   "cell_type": "code",
   "execution_count": 2,
   "metadata": {
    "collapsed": true
   },
   "outputs": [],
   "source": [
    "from nltk.corpus import gutenberg"
   ]
  },
  {
   "cell_type": "code",
   "execution_count": 3,
   "metadata": {
    "collapsed": false
   },
   "outputs": [
    {
     "data": {
      "text/plain": [
       "['austen-emma.txt',\n",
       " 'austen-persuasion.txt',\n",
       " 'austen-sense.txt',\n",
       " 'bible-kjv.txt',\n",
       " 'blake-poems.txt',\n",
       " 'bryant-stories.txt',\n",
       " 'burgess-busterbrown.txt',\n",
       " 'carroll-alice.txt',\n",
       " 'chesterton-ball.txt',\n",
       " 'chesterton-brown.txt',\n",
       " 'chesterton-thursday.txt',\n",
       " 'edgeworth-parents.txt',\n",
       " 'melville-moby_dick.txt',\n",
       " 'milton-paradise.txt',\n",
       " 'shakespeare-caesar.txt',\n",
       " 'shakespeare-hamlet.txt',\n",
       " 'shakespeare-macbeth.txt',\n",
       " 'whitman-leaves.txt']"
      ]
     },
     "execution_count": 3,
     "metadata": {},
     "output_type": "execute_result"
    }
   ],
   "source": [
    "nltk.corpus.gutenberg.fileids() #list of all the files in gutenberg"
   ]
  },
  {
   "cell_type": "code",
   "execution_count": 76,
   "metadata": {
    "collapsed": true
   },
   "outputs": [],
   "source": [
    "import math #\n",
    "import re\n",
    "import os\n",
    "import csv # module implements classes to read and write tabular data in CSV format\n",
    "import glob #used to find  all the pathnames matching a specified pattern\n",
    "from math import log\n",
    "import matplotlib.pyplot as graphplot # collection of command style functions that make matplotlib work like MATLAB\n",
    "from nltk import FreqDist # function which gives us the frequency of words within a text\n",
    "from nltk.corpus import gutenberg # import gutenberg from package and access file 'melville-moby_dick.txt'"
   ]
  },
  {
   "cell_type": "code",
   "execution_count": 77,
   "metadata": {
    "collapsed": false
   },
   "outputs": [],
   "source": [
    "# using the glob command we have to choose a random file say melville-moby_dick.txt(by giving the path of file in local machine) and read the data from the file\n",
    "for file in glob.glob('/Users/nanda/AppData/Roaming/nltk_data/corpora/gutenberg/melville-moby_dick.txt'):\n",
    "    with open(file, 'r',encoding=\"utf-8\", errors='ignore') as f: # here 'r' refering to access=read mode \n",
    "        melvilledata=f.read()\n",
    "\n"
   ]
  },
  {
   "cell_type": "code",
   "execution_count": 78,
   "metadata": {
    "collapsed": false
   },
   "outputs": [
    {
     "name": "stdout",
     "output_type": "stream",
     "text": [
      "168372\n"
     ]
    }
   ],
   "source": [
    "\n",
    "#using a regular function we are finding the count of words and print it.\n",
    "outputdata = re.findall(r'(\\b[A-Za-z][a-z]{2,9}\\b)',melvilledata )\n",
    "\n",
    "print(len(outputdata))\n",
    "\n"
   ]
  },
  {
   "cell_type": "code",
   "execution_count": 129,
   "metadata": {
    "collapsed": false
   },
   "outputs": [],
   "source": [
    "wordFunction=dict()\n",
    "for word in outputdata:\n",
    "    \n",
    "    if word not in wordFunction:\n",
    "        wordFunction[word]=1 # here we are finding the count of each word that is present in our outputdata. It checks if the word is present in the dictionary\n",
    "    else:\n",
    "        wordFunction[word] += 1 # if the word is present in dictionary increment the count value by 1\n",
    "sortedData = sorted(wordFunction.items(), key = lambda s : s[1] ,reverse = True) # sort the file based on the above count and determining the frequency of each word.\n",
    "#print('Words with frequencies' + str(sortedData))# sorting data will help us in finding the most frequently used"
   ]
  },
  {
   "cell_type": "code",
   "execution_count": 121,
   "metadata": {
    "collapsed": false
   },
   "outputs": [],
   "source": [
    "def DumpData(): #define a method DumpData\n",
    "    count=1\n",
    "    csvfile=open('C:/Users/nanda/Desktop/PythonAssign2.csv', 'w',newline=\"\")\n",
    "    dump=csv.writer(csvfile)  #write the csv file using writer\n",
    "    dump.writerow(['Words','Frequency','Rank']) #Return a writer object  for converting the data into delimited strings \n",
    "    for words in sortedData:\n",
    "        dump.writerow([words[0],words[1],count]) #write the header\n",
    "        count+=1\n",
    "    csvfile.close()#close the file"
   ]
  },
  {
   "cell_type": "code",
   "execution_count": 122,
   "metadata": {
    "collapsed": false
   },
   "outputs": [],
   "source": [
    "\n",
    "\n",
    "DumpData()"
   ]
  },
  {
   "cell_type": "code",
   "execution_count": 128,
   "metadata": {
    "collapsed": false
   },
   "outputs": [
    {
     "data": {
      "image/png": "[encoded data removed]",
      "text/plain": [
       "<matplotlib.figure.Figure at 0x23b1bd95320>"
      ]
     },
     "metadata": {},
     "output_type": "display_data"
    }
   ],
   "source": [
    "csvfile=open('C:/Users/nanda/Desktop/PythonAssign2.csv', 'r') # open your csv file\n",
    "\n",
    "graphplot.xlabel(\"Log_Rank\")\n",
    "graphplot.ylabel(\"Log_frequency\")\n",
    "graphplot.title(\"Zipf plot for melville-moby_dick\")\n",
    "word=[] #list declaration for rank word and freq:\n",
    "freq=[]\n",
    "rank=[]\n",
    "csv_f=csv.reader(csvfile) #reading the file using reader command\n",
    "for row in csv_f:\n",
    "    word.append(row[0]) \n",
    "    freq.append(row[1]) \n",
    "    rank.append(row[2]) #to the list of row we are appending the elements\n",
    "rank.pop(0) \n",
    "freq.pop(0)\n",
    "graphplot.loglog(f,r,color='b',linewidth=2) #plot loglog graph\n",
    "graphplot.grid(True)\n",
    "\n",
    "graphplot.show()"
   ]
  },
  {
   "cell_type": "markdown",
   "metadata": {
    "collapsed": true
   },
   "source": [
    "# Conclusion\n",
    "Zipf's law states that given some corpus of natural language utterances, the frequency of any word is inversely proportional to its rank in the frequency table. \n",
    "\n",
    "It is evident from the above graph that the frequency of any word is inversely proportional to its rank in the frequency table."
   ]
  }
 ],
 "metadata": {
  "anaconda-cloud": {},
  "kernelspec": {
   "display_name": "Python [conda root]",
   "language": "python",
   "name": "conda-root-py"
  },
  "language_info": {
   "codemirror_mode": {
    "name": "ipython",
    "version": 3
   },
   "file_extension": ".py",
   "mimetype": "text/x-python",
   "name": "python",
   "nbconvert_exporter": "python",
   "pygments_lexer": "ipython3",
   "version": "3.5.2"
  }
 },
 "nbformat": 4,
 "nbformat_minor": 1
}
