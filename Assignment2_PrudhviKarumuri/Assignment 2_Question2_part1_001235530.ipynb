{
 "cells": [
  {
   "cell_type": "code",
   "execution_count": 3,
   "metadata": {
    "collapsed": true
   },
   "outputs": [],
   "source": [
    "import os #command used to create the directories\n",
    "import shutil #command used to move and copy the files\n",
    "import re \n",
    "import glob # read the files in the directory\n",
    "import json #reading the json type files\n",
    "\n",
    "\n"
   ]
  },
  {
   "cell_type": "code",
   "execution_count": 16,
   "metadata": {
    "collapsed": false
   },
   "outputs": [
    {
     "name": "stdout",
     "output_type": "stream",
     "text": [
      "{'AU', 'GB', 'NZ', 'FR', 'US', 'CA'}\n"
     ]
    }
   ],
   "source": [
    "\n",
    "originalpath = os.getcwd() #The method getcwd() returns current working directory of a process.\n",
    "listoffiles = glob.glob('C:/Users/nanda/PYTHON1/DataAnalysis4Python_Spring17/Assignment 2/Data/*json') #giving the file path of json file location in local disk\n",
    "country = []\n",
    "\n",
    "for file in range(len(listoffiles)): #for finding the unique countries,we have to loop through all the json files present in the directory\n",
    "  \n",
    "    temp = json.loads(open(listoffiles[file]).read())\n",
    "    country.append(temp[\"location\"][\"country\"])\n",
    "UNQ_country = set(country)\n",
    "\n",
    "print(UNQ_country)"
   ]
  },
  {
   "cell_type": "code",
   "execution_count": 18,
   "metadata": {
    "collapsed": false
   },
   "outputs": [],
   "source": [
    "# new directory created\n",
    "New_folder = '/Data Processed'\n",
    "\n",
    "\n",
    "if os.path.isdir(originalpath+New_folder) == 0:\n",
    "     os.mkdir(originalpath+New_folder)#data processed folder in original directory\n",
    "        \n",
    "\n",
    "# Looping for country\n",
    "\n",
    "for country in UNQ_country:\n",
    "    for file in range(len(listoffiles)):\n",
    "        temp = json.loads(open(listoffiles[file]).read())\n",
    "        \n",
    "        #checking for match, if there is a match in json file directory , read the data\n",
    "        if temp['location']['country'] == country:\n",
    "            state = temp[\"location\"][\"state\"]\n",
    "            city =  temp[\"location\"][\"city\"]\n",
    "            zipCode = temp[\"location\"][\"zip_code\"]\n",
    "            term =  temp['term']\n",
    "            \n",
    "            # removing punctuations\n",
    "            fileName = fileList[file][15:]\n",
    "            cleanFileName = re.sub('[^a-zA-Z \\n\\.]', ' ', fileName)\n",
    "            newFileName = cleanFileName.replace(city.lower(), '')\n",
    "            \n",
    "            #creating sub hierarchies\n",
    "         \n",
    "            if os.path.isdir(originalpath+folder) == 1:\n",
    "                os.makedirs(originalpath+folder+\"/\"+country+\"/\"+state+\"/\"+city+\"/\"+zipCode+\"/\"+term, exist_ok=True)\n",
    "                dest = relativePath+folder+\"/\"+country+\"/\"+state+\"/\"+city+\"/\"+zipCode+\"/\"+term+\"/\"+newFileName\n",
    "                shutil.copy(fileList[file], dest)"
   ]
  },
  {
   "cell_type": "code",
   "execution_count": null,
   "metadata": {
    "collapsed": true
   },
   "outputs": [],
   "source": []
  }
 ],
 "metadata": {
  "kernelspec": {
   "display_name": "Python [conda root]",
   "language": "python",
   "name": "conda-root-py"
  },
  "language_info": {
   "codemirror_mode": {
    "name": "ipython",
    "version": 3
   },
   "file_extension": ".py",
   "mimetype": "text/x-python",
   "name": "python",
   "nbconvert_exporter": "python",
   "pygments_lexer": "ipython3",
   "version": "3.5.2"
  }
 },
 "nbformat": 4,
 "nbformat_minor": 1
}
