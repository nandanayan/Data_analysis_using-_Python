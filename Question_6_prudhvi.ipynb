{
 "cells": [
  {
   "cell_type": "code",
   "execution_count": 4,
   "metadata": {
    "collapsed": true
   },
   "outputs": [],
   "source": [
    "\n",
    "\n",
    "import nltk #importing nltk\n",
    "\n"
   ]
  },
  {
   "cell_type": "code",
   "execution_count": 6,
   "metadata": {
    "collapsed": false
   },
   "outputs": [
    {
     "name": "stdout",
     "output_type": "stream",
     "text": [
      "['1789-Washington.txt', '1793-Washington.txt', '1797-Adams.txt', '1801-Jefferson.txt', '1805-Jefferson.txt', '1809-Madison.txt', '1813-Madison.txt', '1817-Monroe.txt', '1821-Monroe.txt', '1825-Adams.txt', '1829-Jackson.txt', '1833-Jackson.txt', '1837-VanBuren.txt', '1841-Harrison.txt', '1845-Polk.txt', '1849-Taylor.txt', '1853-Pierce.txt', '1857-Buchanan.txt', '1861-Lincoln.txt', '1865-Lincoln.txt', '1869-Grant.txt', '1873-Grant.txt', '1877-Hayes.txt', '1881-Garfield.txt', '1885-Cleveland.txt', '1889-Harrison.txt', '1893-Cleveland.txt', '1897-McKinley.txt', '1901-McKinley.txt', '1905-Roosevelt.txt', '1909-Taft.txt', '1913-Wilson.txt', '1917-Wilson.txt', '1921-Harding.txt', '1925-Coolidge.txt', '1929-Hoover.txt', '1933-Roosevelt.txt', '1937-Roosevelt.txt', '1941-Roosevelt.txt', '1945-Roosevelt.txt', '1949-Truman.txt', '1953-Eisenhower.txt', '1957-Eisenhower.txt', '1961-Kennedy.txt', '1965-Johnson.txt', '1969-Nixon.txt', '1973-Nixon.txt', '1977-Carter.txt', '1981-Reagan.txt', '1985-Reagan.txt', '1989-Bush.txt', '1993-Clinton.txt', '1997-Clinton.txt', '2001-Bush.txt', '2005-Bush.txt', '2009-Obama.txt']\n"
     ]
    }
   ],
   "source": [
    "from nltk.corpus import inaugural\n",
    "files=inaugural.fileids()\n",
    "print(files)"
   ]
  },
  {
   "cell_type": "code",
   "execution_count": 9,
   "metadata": {
    "collapsed": false
   },
   "outputs": [
    {
     "name": "stdout",
     "output_type": "stream",
     "text": [
      "Repetitions by  ['Washington', 'Jefferson', 'Madison', 'Monroe', 'Adams', 'Jackson', 'Lincoln', 'Grant', 'Harrison', 'Cleveland', 'McKinley', 'Wilson', 'Roosevelt', 'Roosevelt', 'Roosevelt', 'Roosevelt', 'Eisenhower', 'Nixon', 'Reagan', 'Clinton', 'Bush', 'Bush']  are included in the same file.\n",
      "Total Number of files are: 34\n"
     ]
    },
    {
     "data": {
      "text/plain": [
       "{'Adams': 1835,\n",
       " 'Buchanan': 948,\n",
       " 'Bush': 2198,\n",
       " 'Carter': 529,\n",
       " 'Cleveland': 1496,\n",
       " 'Clinton': 1417,\n",
       " 'Coolidge': 1221,\n",
       " 'Eisenhower': 1521,\n",
       " 'Garfield': 1022,\n",
       " 'Grant': 1042,\n",
       " 'Harding': 1170,\n",
       " 'Harrison': 3251,\n",
       " 'Hayes': 832,\n",
       " 'Hoover': 1087,\n",
       " 'Jackson': 1019,\n",
       " 'Jefferson': 1523,\n",
       " 'Johnson': 571,\n",
       " 'Kennedy': 570,\n",
       " 'Lincoln': 1441,\n",
       " 'Madison': 1079,\n",
       " 'McKinley': 2099,\n",
       " 'Monroe': 2306,\n",
       " 'Nixon': 1288,\n",
       " 'Obama': 938,\n",
       " 'Pierce': 1168,\n",
       " 'Polk': 1333,\n",
       " 'Reagan': 1831,\n",
       " 'Roosevelt': 2690,\n",
       " 'Taft': 1439,\n",
       " 'Taylor': 499,\n",
       " 'Truman': 781,\n",
       " 'VanBuren': 1318,\n",
       " 'Washington': 724,\n",
       " 'Wilson': 1210}"
      ]
     },
     "execution_count": 9,
     "metadata": {},
     "output_type": "execute_result"
    }
   ],
   "source": [
    "#calculating unique Presidents and number of unique words in their speech\n",
    "words={}\n",
    "temp=[]\n",
    "for file in files:\n",
    "    if file[5:-4] not in words:\n",
    "        total_words=inaugural.words(file)\n",
    "        unique_word_count=len(set(total_words))\n",
    "        words[file[5:-4]]=unique_word_count\n",
    "    elif file[5:-4] in final_words:\n",
    "        total_words=inaugural.words(file)\n",
    "        unique_word_count=len(set(total_words))\n",
    "        words[file[5:-4]]+=unique_word_count\n",
    "        temp.append(file[5:-4])\n",
    "print(\"Repetitions by \",temp,\" are present in the same file.\",sep=' ')\n",
    "print(\"Total Number of files are:\",len(words),sep=' ')\n",
    "words"
   ]
  },
  {
   "cell_type": "code",
   "execution_count": null,
   "metadata": {
    "collapsed": true
   },
   "outputs": [],
   "source": []
  }
 ],
 "metadata": {
  "anaconda-cloud": {},
  "kernelspec": {
   "display_name": "Python [conda root]",
   "language": "python",
   "name": "conda-root-py"
  },
  "language_info": {
   "codemirror_mode": {
    "name": "ipython",
    "version": 3
   },
   "file_extension": ".py",
   "mimetype": "text/x-python",
   "name": "python",
   "nbconvert_exporter": "python",
   "pygments_lexer": "ipython3",
   "version": "3.5.2"
  }
 },
 "nbformat": 4,
 "nbformat_minor": 1
}
