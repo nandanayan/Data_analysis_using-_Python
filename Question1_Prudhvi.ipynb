{
 "cells": [
  {
   "cell_type": "markdown",
   "metadata": {},
   "source": [
    "# Under package Gutenberg, see what files are in it.\n"
   ]
  },
  {
   "cell_type": "code",
   "execution_count": 7,
   "metadata": {
    "collapsed": true
   },
   "outputs": [],
   "source": [
    "import nltk\n"
   ]
  },
  {
   "cell_type": "code",
   "execution_count": 2,
   "metadata": {
    "collapsed": false
   },
   "outputs": [
    {
     "data": {
      "text/plain": [
       "['austen-emma.txt',\n",
       " 'austen-persuasion.txt',\n",
       " 'austen-sense.txt',\n",
       " 'bible-kjv.txt',\n",
       " 'blake-poems.txt',\n",
       " 'bryant-stories.txt',\n",
       " 'burgess-busterbrown.txt',\n",
       " 'carroll-alice.txt',\n",
       " 'chesterton-ball.txt',\n",
       " 'chesterton-brown.txt',\n",
       " 'chesterton-thursday.txt',\n",
       " 'edgeworth-parents.txt',\n",
       " 'melville-moby_dick.txt',\n",
       " 'milton-paradise.txt',\n",
       " 'shakespeare-caesar.txt',\n",
       " 'shakespeare-hamlet.txt',\n",
       " 'shakespeare-macbeth.txt',\n",
       " 'whitman-leaves.txt']"
      ]
     },
     "execution_count": 2,
     "metadata": {},
     "output_type": "execute_result"
    }
   ],
   "source": [
    "nltk.corpus.gutenberg.fileids()\n",
    "#  importing gutenberg from nltk.corpus\n",
    "# gutenberg.fileids()"
   ]
  },
  {
   "cell_type": "code",
   "execution_count": 3,
   "metadata": {
    "collapsed": false
   },
   "outputs": [
    {
     "name": "stdout",
     "output_type": "stream",
     "text": [
      "Number Of Files In Gutenberg = 18\n"
     ]
    }
   ],
   "source": [
    "Length=len(nltk.corpus.gutenberg.fileids())\n",
    "print(\"Number Of Files In Gutenberg =\",Length)"
   ]
  },
  {
   "cell_type": "markdown",
   "metadata": {},
   "source": [
    "# Find out how many words and how many unique words in file 'austen-persuasion.txt'.\n"
   ]
  },
  {
   "cell_type": "code",
   "execution_count": 4,
   "metadata": {
    "collapsed": false
   },
   "outputs": [
    {
     "name": "stdout",
     "output_type": "stream",
     "text": [
      "There are  192427 words present in austen-emma.txt\n",
      "There are 17409 unique words present in austen-emma.txt\n"
     ]
    }
   ],
   "source": [
    "wordstring = nltk.corpus.gutenberg.words('austen-emma.txt')\n",
    "print(\"There are \",len(wordstring),\"words present in austen-emma.txt\")\n",
    "rawWords=nltk.corpus.gutenberg.raw('austen-emma.txt')\n",
    "words= rawWords.split()\n",
    "uniqueWords= set(words)\n",
    "print(\"There are\",len(uniqueWords),\"unique words present in austen-emma.txt\")"
   ]
  },
  {
   "cell_type": "markdown",
   "metadata": {},
   "source": [
    "# Calculate the frequency for each words and show the top 10 most frequent words and their frequency.\u000b"
   ]
  },
  {
   "cell_type": "code",
   "execution_count": 6,
   "metadata": {
    "collapsed": false
   },
   "outputs": [
    {
     "name": "stdout",
     "output_type": "stream",
     "text": [
      "Top 10 words and their frequencies are: \n"
     ]
    },
    {
     "data": {
      "text/plain": [
       "[('to', 5041),\n",
       " ('the', 4813),\n",
       " ('and', 4305),\n",
       " ('of', 4187),\n",
       " ('a', 2958),\n",
       " ('I', 2602),\n",
       " ('was', 2297),\n",
       " ('in', 2034),\n",
       " ('not', 2013),\n",
       " ('her', 1915)]"
      ]
     },
     "execution_count": 6,
     "metadata": {},
     "output_type": "execute_result"
    }
   ],
   "source": [
    "wordcount={}\n",
    "for word in words:\n",
    "    if word.isalpha():\n",
    "        if word not in wordcount:\n",
    "            wordcount[word] = 1\n",
    "        else:\n",
    "            wordcount[word] += 1\n",
    "sorted_words=sorted(wordcount.items(), key=lambda x: x[1], reverse=True)\n",
    "print(\"Top 10 words and their frequencies are: \")\n",
    "sorted_words[:10]"
   ]
  },
  {
   "cell_type": "code",
   "execution_count": null,
   "metadata": {
    "collapsed": true
   },
   "outputs": [],
   "source": []
  }
 ],
 "metadata": {
  "anaconda-cloud": {},
  "kernelspec": {
   "display_name": "Python [conda root]",
   "language": "python",
   "name": "conda-root-py"
  },
  "language_info": {
   "codemirror_mode": {
    "name": "ipython",
    "version": 3
   },
   "file_extension": ".py",
   "mimetype": "text/x-python",
   "name": "python",
   "nbconvert_exporter": "python",
   "pygments_lexer": "ipython3",
   "version": "3.5.2"
  }
 },
 "nbformat": 4,
 "nbformat_minor": 1
}
