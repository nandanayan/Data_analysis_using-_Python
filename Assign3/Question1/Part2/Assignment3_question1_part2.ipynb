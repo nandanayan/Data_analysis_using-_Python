{
 "cells": [
  {
   "cell_type": "code",
   "execution_count": 50,
   "metadata": {
    "collapsed": true
   },
   "outputs": [],
   "source": [
    "import numpy as np\n",
    "import pandas as pd\n",
    "from pandas import Series, DataFrame"
   ]
  },
  {
   "cell_type": "code",
   "execution_count": 51,
   "metadata": {
    "collapsed": true
   },
   "outputs": [],
   "source": [
    "data=pd.read_csv(r\"Assignment 3\\Data\\vehicle_collisions.csv\")#calling .csv file from relative path and data frame columns assignment to the vehicle collissions csv file.\n",
    "daF=DataFrame(data, columns=['BOROUGH', 'VEHICLE 1 TYPE','VEHICLE 2 TYPE','VEHICLE 3 TYPE','VEHICLE 4 TYPE','VEHICLE 5 TYPE'])"
   ]
  },
  {
   "cell_type": "code",
   "execution_count": 52,
   "metadata": {
    "collapsed": false
   },
   "outputs": [],
   "source": [
    "daF['VEHICLE 1 TYPE'] = daF['VEHICLE 1 TYPE'].apply(lambda x: 0 if pd.isnull(x) else 1)#iterating through VEHICLE 1 TYPE column to find the relative count of collisions involved"
   ]
  },
  {
   "cell_type": "code",
   "execution_count": 53,
   "metadata": {
    "collapsed": true
   },
   "outputs": [],
   "source": [
    "daF['VEHICLE 2 TYPE'] = daF['VEHICLE 2 TYPE'].apply(lambda x: 0 if pd.isnull(x) else 1)#iterating through VEHICLE 2 TYPE column to find the relative count of collisions involved"
   ]
  },
  {
   "cell_type": "code",
   "execution_count": 54,
   "metadata": {
    "collapsed": true
   },
   "outputs": [],
   "source": [
    "daF['VEHICLE 3 TYPE'] = daF['VEHICLE 3 TYPE'].apply(lambda x: 0 if pd.isnull(x) else 1)#iterating through VEHICLE 3 TYPE column to find the relative count of collisions involved"
   ]
  },
  {
   "cell_type": "code",
   "execution_count": 55,
   "metadata": {
    "collapsed": true
   },
   "outputs": [],
   "source": [
    "daF['VEHICLE 4 TYPE'] = daF['VEHICLE 4 TYPE'].apply(lambda x: 0 if pd.isnull(x) else 1)#iterating through VEHICLE 4 TYPE column to find the relative count of collisions involved"
   ]
  },
  {
   "cell_type": "code",
   "execution_count": 56,
   "metadata": {
    "collapsed": true
   },
   "outputs": [],
   "source": [
    "daF['VEHICLE 5 TYPE'] = daF['VEHICLE 5 TYPE'].apply(lambda x: 0 if pd.isnull(x) else 1)#iterating through VEHICLE 5 TYPE column to find the relative count of collisions involved"
   ]
  },
  {
   "cell_type": "code",
   "execution_count": 57,
   "metadata": {
    "collapsed": true
   },
   "outputs": [],
   "source": [
    "daF['COMBINE']=daF['VEHICLE 1 TYPE']+daF['VEHICLE 2 TYPE']+daF['VEHICLE 3 TYPE']+daF['VEHICLE 4 TYPE']+\\\n",
    "    daF['VEHICLE 5 TYPE']\n",
    "daF['COMBINE']=daF['COMBINE'].apply(lambda x: 4 if x>3 else x)#many vehicles involved if?"
   ]
  },
  {
   "cell_type": "code",
   "execution_count": 58,
   "metadata": {
    "collapsed": false
   },
   "outputs": [],
   "source": [
    "daF['1VEHICLE INVOLVED']= np.where(daF['COMBINE']== 1, 1,0)\n",
    "daF['2VEHICLE INVOLVED']= np.where(daF['COMBINE']== 2, 1,0)\n",
    "daF['3VEHICLE INVOLVED']= np.where(daF['COMBINE']== 3, 1,0)\n",
    "daF['ManyVEHICLES INVOLVED']= np.where(daF['COMBINE']== 4, 1,0)\n",
    "daF=daF.groupby('BOROUGH').sum() #agregating the net counts"
   ]
  },
  {
   "cell_type": "code",
   "execution_count": 59,
   "metadata": {
    "collapsed": false
   },
   "outputs": [
    {
     "data": {
      "text/html": [
       "<div>\n",
       "<table border=\"1\" class=\"dataframe\">\n",
       "  <thead>\n",
       "    <tr style=\"text-align: right;\">\n",
       "      <th></th>\n",
       "      <th>1VEHICLE INVOLVED</th>\n",
       "      <th>2VEHICLE INVOLVED</th>\n",
       "      <th>3VEHICLE INVOLVED</th>\n",
       "      <th>ManyVEHICLES INVOLVED</th>\n",
       "    </tr>\n",
       "    <tr>\n",
       "      <th>BOROUGH</th>\n",
       "      <th></th>\n",
       "      <th></th>\n",
       "      <th></th>\n",
       "      <th></th>\n",
       "    </tr>\n",
       "  </thead>\n",
       "  <tbody>\n",
       "    <tr>\n",
       "      <th>BRONX</th>\n",
       "      <td>8627</td>\n",
       "      <td>34385</td>\n",
       "      <td>1962</td>\n",
       "      <td>625</td>\n",
       "    </tr>\n",
       "    <tr>\n",
       "      <th>BROOKLYN</th>\n",
       "      <td>17375</td>\n",
       "      <td>80207</td>\n",
       "      <td>4980</td>\n",
       "      <td>1612</td>\n",
       "    </tr>\n",
       "    <tr>\n",
       "      <th>MANHATTAN</th>\n",
       "      <td>13318</td>\n",
       "      <td>66958</td>\n",
       "      <td>2024</td>\n",
       "      <td>501</td>\n",
       "    </tr>\n",
       "    <tr>\n",
       "      <th>QUEENS</th>\n",
       "      <td>12962</td>\n",
       "      <td>70260</td>\n",
       "      <td>4498</td>\n",
       "      <td>1420</td>\n",
       "    </tr>\n",
       "    <tr>\n",
       "      <th>STATEN ISLAND</th>\n",
       "      <td>2343</td>\n",
       "      <td>10676</td>\n",
       "      <td>759</td>\n",
       "      <td>165</td>\n",
       "    </tr>\n",
       "  </tbody>\n",
       "</table>\n",
       "</div>"
      ],
      "text/plain": [
       "               1VEHICLE INVOLVED  2VEHICLE INVOLVED  3VEHICLE INVOLVED  \\\n",
       "BOROUGH                                                                  \n",
       "BRONX                       8627              34385               1962   \n",
       "BROOKLYN                   17375              80207               4980   \n",
       "MANHATTAN                  13318              66958               2024   \n",
       "QUEENS                     12962              70260               4498   \n",
       "STATEN ISLAND               2343              10676                759   \n",
       "\n",
       "               ManyVEHICLES INVOLVED  \n",
       "BOROUGH                               \n",
       "BRONX                            625  \n",
       "BROOKLYN                        1612  \n",
       "MANHATTAN                        501  \n",
       "QUEENS                          1420  \n",
       "STATEN ISLAND                    165  "
      ]
     },
     "execution_count": 59,
     "metadata": {},
     "output_type": "execute_result"
    }
   ],
   "source": [
    "outputpdf=DataFrame(daF,columns=['1VEHICLE INVOLVED','2VEHICLE INVOLVED','3VEHICLE INVOLVED','ManyVEHICLES INVOLVED'])\n",
    "\n",
    "\n",
    "outputpdf.to_csv(r'Assignment 3\\Data\\VehicleDetails_count.csv',index=False)\n",
    "outputpdf.head()"
   ]
  },
  {
   "cell_type": "code",
   "execution_count": null,
   "metadata": {
    "collapsed": false
   },
   "outputs": [],
   "source": []
  },
  {
   "cell_type": "code",
   "execution_count": null,
   "metadata": {
    "collapsed": true
   },
   "outputs": [],
   "source": []
  },
  {
   "cell_type": "code",
   "execution_count": null,
   "metadata": {
    "collapsed": true
   },
   "outputs": [],
   "source": []
  }
 ],
 "metadata": {
  "anaconda-cloud": {},
  "kernelspec": {
   "display_name": "Python [conda root]",
   "language": "python",
   "name": "conda-root-py"
  },
  "language_info": {
   "codemirror_mode": {
    "name": "ipython",
    "version": 3
   },
   "file_extension": ".py",
   "mimetype": "text/x-python",
   "name": "python",
   "nbconvert_exporter": "python",
   "pygments_lexer": "ipython3",
   "version": "3.5.2"
  }
 },
 "nbformat": 4,
 "nbformat_minor": 1
}
