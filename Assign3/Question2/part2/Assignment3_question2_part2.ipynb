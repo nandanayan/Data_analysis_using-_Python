{
 "cells": [
  {
   "cell_type": "code",
   "execution_count": 9,
   "metadata": {
    "collapsed": true
   },
   "outputs": [],
   "source": [
    "from pandas import Series, DataFrame\n",
    "import pandas as pd\n",
    "import numpy as np"
   ]
  },
  {
   "cell_type": "code",
   "execution_count": 10,
   "metadata": {
    "collapsed": false
   },
   "outputs": [],
   "source": [
    "data=pd.read_csv(r\"Assignment 3\\Data\\employee_compensation.csv\")#calling .csv file from relative path"
   ]
  },
  {
   "cell_type": "code",
   "execution_count": 16,
   "metadata": {
    "collapsed": false
   },
   "outputs": [],
   "source": [
    "cal=DataFrame(data,columns=['Year Type','Employee Identifier','Salaries','Overtime','Other Salaries','Total Salary','Total Benefits','Total Compensation'])\n",
    "cal=cal[cal['Year Type']=='Calendar']#alligning the column csv files in data frame\n",
    "cal=cal.groupby(by=['Employee Identifier']).mean()#for grouping employees on subdivision"
   ]
  },
  {
   "cell_type": "code",
   "execution_count": 17,
   "metadata": {
    "collapsed": true
   },
   "outputs": [],
   "source": [
    "\n",
    "cal['5p_salary']=cal['Salaries']*0.05#calculating the 5% salary\n",
    "cal['overtimenet']=np.where(cal['Overtime']>cal['5p_salary'],'YES','NO')\n",
    "cal=cal[cal['overtimenet']=='YES']#comparing the overtime values with 5% salarys"
   ]
  },
  {
   "cell_type": "code",
   "execution_count": 21,
   "metadata": {
    "collapsed": true
   },
   "outputs": [],
   "source": [
    "\n",
    "employee_data = DataFrame(cal.index.get_level_values('Employee Identifier'))"
   ]
  },
  {
   "cell_type": "code",
   "execution_count": 26,
   "metadata": {
    "collapsed": true
   },
   "outputs": [],
   "source": [
    "familydata = employee_data.merge(data, on = 'Employee Identifier')['Job Family'].unique()#for distinct job family sub division\n",
    "final = data[data['Job Family'].isin(familydata)]#grouping for agregating total benfits and compensations\n",
    "final = final.groupby('Job Family')['Total Benefits', 'Total Compensation'].mean()"
   ]
  },
  {
   "cell_type": "code",
   "execution_count": 27,
   "metadata": {
    "collapsed": false
   },
   "outputs": [
    {
     "data": {
      "text/html": [
       "<div>\n",
       "<table border=\"1\" class=\"dataframe\">\n",
       "  <thead>\n",
       "    <tr style=\"text-align: right;\">\n",
       "      <th></th>\n",
       "      <th>Total Benefits</th>\n",
       "      <th>Total Compensation</th>\n",
       "      <th>BenefitPercentage</th>\n",
       "    </tr>\n",
       "    <tr>\n",
       "      <th>Job Family</th>\n",
       "      <th></th>\n",
       "      <th></th>\n",
       "      <th></th>\n",
       "    </tr>\n",
       "  </thead>\n",
       "  <tbody>\n",
       "    <tr>\n",
       "      <th>Public Service Aide</th>\n",
       "      <td>5087.142130</td>\n",
       "      <td>14450.325272</td>\n",
       "      <td>35.204343</td>\n",
       "    </tr>\n",
       "    <tr>\n",
       "      <th>Housekeeping &amp; Laundry</th>\n",
       "      <td>23787.827171</td>\n",
       "      <td>72612.204294</td>\n",
       "      <td>32.760095</td>\n",
       "    </tr>\n",
       "    <tr>\n",
       "      <th>Park &amp; Zoo</th>\n",
       "      <td>17359.449541</td>\n",
       "      <td>53001.043501</td>\n",
       "      <td>32.753034</td>\n",
       "    </tr>\n",
       "    <tr>\n",
       "      <th>Clerical, Secretarial &amp; Steno</th>\n",
       "      <td>21394.905197</td>\n",
       "      <td>66009.821043</td>\n",
       "      <td>32.411700</td>\n",
       "    </tr>\n",
       "    <tr>\n",
       "      <th>Dietary &amp; Food</th>\n",
       "      <td>19300.787905</td>\n",
       "      <td>60295.256688</td>\n",
       "      <td>32.010458</td>\n",
       "    </tr>\n",
       "  </tbody>\n",
       "</table>\n",
       "</div>"
      ],
      "text/plain": [
       "                               Total Benefits  Total Compensation  \\\n",
       "Job Family                                                          \n",
       "Public Service Aide               5087.142130        14450.325272   \n",
       "Housekeeping & Laundry           23787.827171        72612.204294   \n",
       "Park & Zoo                       17359.449541        53001.043501   \n",
       "Clerical, Secretarial & Steno    21394.905197        66009.821043   \n",
       "Dietary & Food                   19300.787905        60295.256688   \n",
       "\n",
       "                               BenefitPercentage  \n",
       "Job Family                                        \n",
       "Public Service Aide                    35.204343  \n",
       "Housekeeping & Laundry                 32.760095  \n",
       "Park & Zoo                             32.753034  \n",
       "Clerical, Secretarial & Steno          32.411700  \n",
       "Dietary & Food                         32.010458  "
      ]
     },
     "execution_count": 27,
     "metadata": {},
     "output_type": "execute_result"
    }
   ],
   "source": [
    "final['BenefitPercentage'] = final['Total Benefits'] * 100 / final['Total Compensation']\n",
    "final=final.sort_values(by='BenefitPercentage', ascending=False).head(n=5)\n",
    "final.to_csv('Benfits.csv', sep=',', encoding='utf-8')\n",
    "final.head()"
   ]
  },
  {
   "cell_type": "code",
   "execution_count": null,
   "metadata": {
    "collapsed": true
   },
   "outputs": [],
   "source": []
  }
 ],
 "metadata": {
  "kernelspec": {
   "display_name": "Python [conda root]",
   "language": "python",
   "name": "conda-root-py"
  },
  "language_info": {
   "codemirror_mode": {
    "name": "ipython",
    "version": 3
   },
   "file_extension": ".py",
   "mimetype": "text/x-python",
   "name": "python",
   "nbconvert_exporter": "python",
   "pygments_lexer": "ipython3",
   "version": "3.5.2"
  }
 },
 "nbformat": 4,
 "nbformat_minor": 1
}
