{
 "cells": [
  {
   "cell_type": "code",
   "execution_count": 1,
   "metadata": {
    "collapsed": false
   },
   "outputs": [
    {
     "data": {
      "text/html": [
       "<div>\n",
       "<table border=\"1\" class=\"dataframe\">\n",
       "  <thead>\n",
       "    <tr style=\"text-align: right;\">\n",
       "      <th></th>\n",
       "      <th>ONE VEHICLE INVOLVED</th>\n",
       "      <th>TWO VEHICLE INVOLVED</th>\n",
       "      <th>THREE VEHICLE INVOLVED</th>\n",
       "      <th>MORE VEHICLES INVOLVED</th>\n",
       "    </tr>\n",
       "    <tr>\n",
       "      <th>BOROUGH</th>\n",
       "      <th></th>\n",
       "      <th></th>\n",
       "      <th></th>\n",
       "      <th></th>\n",
       "    </tr>\n",
       "  </thead>\n",
       "  <tbody>\n",
       "    <tr>\n",
       "      <th>BRONX</th>\n",
       "      <td>8627</td>\n",
       "      <td>34385</td>\n",
       "      <td>1962</td>\n",
       "      <td>625</td>\n",
       "    </tr>\n",
       "    <tr>\n",
       "      <th>BROOKLYN</th>\n",
       "      <td>17375</td>\n",
       "      <td>80207</td>\n",
       "      <td>4980</td>\n",
       "      <td>1612</td>\n",
       "    </tr>\n",
       "    <tr>\n",
       "      <th>MANHATTAN</th>\n",
       "      <td>13318</td>\n",
       "      <td>66958</td>\n",
       "      <td>2024</td>\n",
       "      <td>501</td>\n",
       "    </tr>\n",
       "    <tr>\n",
       "      <th>QUEENS</th>\n",
       "      <td>12962</td>\n",
       "      <td>70260</td>\n",
       "      <td>4498</td>\n",
       "      <td>1420</td>\n",
       "    </tr>\n",
       "    <tr>\n",
       "      <th>STATEN ISLAND</th>\n",
       "      <td>2343</td>\n",
       "      <td>10676</td>\n",
       "      <td>759</td>\n",
       "      <td>165</td>\n",
       "    </tr>\n",
       "  </tbody>\n",
       "</table>\n",
       "</div>"
      ],
      "text/plain": [
       "               ONE VEHICLE INVOLVED  TWO VEHICLE INVOLVED  \\\n",
       "BOROUGH                                                     \n",
       "BRONX                          8627                 34385   \n",
       "BROOKLYN                      17375                 80207   \n",
       "MANHATTAN                     13318                 66958   \n",
       "QUEENS                        12962                 70260   \n",
       "STATEN ISLAND                  2343                 10676   \n",
       "\n",
       "               THREE VEHICLE INVOLVED  MORE VEHICLES INVOLVED  \n",
       "BOROUGH                                                        \n",
       "BRONX                            1962                     625  \n",
       "BROOKLYN                         4980                    1612  \n",
       "MANHATTAN                        2024                     501  \n",
       "QUEENS                           4498                    1420  \n",
       "STATEN ISLAND                     759                     165  "
      ]
     },
     "execution_count": 1,
     "metadata": {},
     "output_type": "execute_result"
    }
   ],
   "source": [
    "import numpy as np\n",
    "import pandas as pd\n",
    "from pandas import Series, DataFrame\n",
    "data=pd.read_csv(r\"Assignment 3\\Data\\vehicle_collisions.csv\")\n",
    "pdf=DataFrame(data, columns=['BOROUGH', 'VEHICLE 1 TYPE','VEHICLE 2 TYPE','VEHICLE 3 TYPE','VEHICLE 4 TYPE','VEHICLE 5 TYPE'])\n",
    "\n",
    "pdf['VEHICLE 1 TYPE'] = pdf['VEHICLE 1 TYPE'].apply(lambda x: 0 if pd.isnull(x) else 1)\n",
    "pdf['VEHICLE 2 TYPE'] = pdf['VEHICLE 2 TYPE'].apply(lambda x: 0 if pd.isnull(x) else 1)\n",
    "pdf['VEHICLE 3 TYPE'] = pdf['VEHICLE 3 TYPE'].apply(lambda x: 0 if pd.isnull(x) else 1)\n",
    "pdf['VEHICLE 4 TYPE'] = pdf['VEHICLE 4 TYPE'].apply(lambda x: 0 if pd.isnull(x) else 1)\n",
    "pdf['VEHICLE 5 TYPE'] = pdf['VEHICLE 5 TYPE'].apply(lambda x: 0 if pd.isnull(x) else 1)\n",
    "pdf['COMBINE']=pdf['VEHICLE 1 TYPE']+pdf['VEHICLE 2 TYPE']+pdf['VEHICLE 3 TYPE']+pdf['VEHICLE 4 TYPE']+\\\n",
    "    pdf['VEHICLE 5 TYPE']\n",
    "pdf['COMBINE']=pdf['COMBINE'].apply(lambda x: 4 if x>3 else x)\n",
    "\n",
    "pdf['ONE VEHICLE INVOLVED']= np.where(pdf['COMBINE']== 1, 1,0)\n",
    "pdf['TWO VEHICLE INVOLVED']= np.where(pdf['COMBINE']== 2, 1,0)\n",
    "pdf['THREE VEHICLE INVOLVED']= np.where(pdf['COMBINE']== 3, 1,0)\n",
    "pdf['MORE VEHICLES INVOLVED']= np.where(pdf['COMBINE']== 4, 1,0)\n",
    "pdf=pdf.groupby('BOROUGH').sum()\n",
    "\n",
    "outputpdf=DataFrame(pdf,columns=['ONE VEHICLE INVOLVED','TWO VEHICLE INVOLVED','THREE VEHICLE INVOLVED','MORE VEHICLES INVOLVED'])\n",
    "\n",
    "\n",
    "outputpdf.to_csv('question1Part2Analysis.csv', sep=',', encoding='utf-8')\n",
    "outputpdf.head()"
   ]
  },
  {
   "cell_type": "code",
   "execution_count": null,
   "metadata": {
    "collapsed": true
   },
   "outputs": [],
   "source": []
  }
 ],
 "metadata": {
  "anaconda-cloud": {},
  "kernelspec": {
   "display_name": "Python [conda root]",
   "language": "python",
   "name": "conda-root-py"
  },
  "language_info": {
   "codemirror_mode": {
    "name": "ipython",
    "version": 3
   },
   "file_extension": ".py",
   "mimetype": "text/x-python",
   "name": "python",
   "nbconvert_exporter": "python",
   "pygments_lexer": "ipython3",
   "version": "3.5.2"
  }
 },
 "nbformat": 4,
 "nbformat_minor": 1
}
