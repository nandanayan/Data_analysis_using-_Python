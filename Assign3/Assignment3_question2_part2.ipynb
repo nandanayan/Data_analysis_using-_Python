{
 "cells": [
  {
   "cell_type": "code",
   "execution_count": 1,
   "metadata": {
    "collapsed": true
   },
   "outputs": [],
   "source": [
    "from pandas import Series, DataFrame\n",
    "import pandas as pd\n",
    "import numpy as np"
   ]
  },
  {
   "cell_type": "code",
   "execution_count": 3,
   "metadata": {
    "collapsed": false
   },
   "outputs": [],
   "source": [
    "data=pd.read_csv(r\"Assignment 3\\Data\\employee_compensation.csv\")"
   ]
  },
  {
   "cell_type": "code",
   "execution_count": 4,
   "metadata": {
    "collapsed": true
   },
   "outputs": [],
   "source": [
    "calendar_data=DataFrame(data,columns=['Year Type','Employee Identifier','Salaries','Overtime','Other Salaries','Total Salary','Total Benefits','Total Compensation'])\n",
    "calendar_data=calendar_data[calendar_data['Year Type']=='Calendar']\n",
    "calendar_data=calendar_data.groupby(by=['Employee Identifier']).mean()"
   ]
  },
  {
   "cell_type": "code",
   "execution_count": 5,
   "metadata": {
    "collapsed": true
   },
   "outputs": [],
   "source": [
    "\n",
    "calendar_data['Five Percent Salary']=calendar_data['Salaries']*0.05\n",
    "calendar_data['Is OverTime More']=np.where(calendar_data['Overtime']>calendar_data['Five Percent Salary'],'YES','NO')\n",
    "calendar_data=calendar_data[calendar_data['Is OverTime More']=='YES']"
   ]
  },
  {
   "cell_type": "code",
   "execution_count": 6,
   "metadata": {
    "collapsed": true
   },
   "outputs": [],
   "source": [
    "\n",
    "employee_data = DataFrame(calendar_data.index.get_level_values('Employee Identifier'))"
   ]
  },
  {
   "cell_type": "code",
   "execution_count": 7,
   "metadata": {
    "collapsed": true
   },
   "outputs": [],
   "source": [
    "job_family_data = employee_data.merge(data, on = 'Employee Identifier')['Job Family'].unique()\n",
    "jf = data[data['Job Family'].isin(job_family_data)]\n",
    "jf = jf.groupby('Job Family')['Total Benefits', 'Total Compensation'].mean()"
   ]
  },
  {
   "cell_type": "code",
   "execution_count": 9,
   "metadata": {
    "collapsed": false
   },
   "outputs": [
    {
     "data": {
      "text/html": [
       "<div>\n",
       "<table border=\"1\" class=\"dataframe\">\n",
       "  <thead>\n",
       "    <tr style=\"text-align: right;\">\n",
       "      <th></th>\n",
       "      <th>Total Benefits</th>\n",
       "      <th>Total Compensation</th>\n",
       "      <th>Percent_Total_Benefit</th>\n",
       "    </tr>\n",
       "    <tr>\n",
       "      <th>Job Family</th>\n",
       "      <th></th>\n",
       "      <th></th>\n",
       "      <th></th>\n",
       "    </tr>\n",
       "  </thead>\n",
       "  <tbody>\n",
       "    <tr>\n",
       "      <th>Public Service Aide</th>\n",
       "      <td>5087.142130</td>\n",
       "      <td>14450.325272</td>\n",
       "      <td>35.204343</td>\n",
       "    </tr>\n",
       "    <tr>\n",
       "      <th>Housekeeping &amp; Laundry</th>\n",
       "      <td>23787.827171</td>\n",
       "      <td>72612.204294</td>\n",
       "      <td>32.760095</td>\n",
       "    </tr>\n",
       "    <tr>\n",
       "      <th>Park &amp; Zoo</th>\n",
       "      <td>17359.449541</td>\n",
       "      <td>53001.043501</td>\n",
       "      <td>32.753034</td>\n",
       "    </tr>\n",
       "    <tr>\n",
       "      <th>Clerical, Secretarial &amp; Steno</th>\n",
       "      <td>21394.905197</td>\n",
       "      <td>66009.821043</td>\n",
       "      <td>32.411700</td>\n",
       "    </tr>\n",
       "    <tr>\n",
       "      <th>Dietary &amp; Food</th>\n",
       "      <td>19300.787905</td>\n",
       "      <td>60295.256688</td>\n",
       "      <td>32.010458</td>\n",
       "    </tr>\n",
       "  </tbody>\n",
       "</table>\n",
       "</div>"
      ],
      "text/plain": [
       "                               Total Benefits  Total Compensation  \\\n",
       "Job Family                                                          \n",
       "Public Service Aide               5087.142130        14450.325272   \n",
       "Housekeeping & Laundry           23787.827171        72612.204294   \n",
       "Park & Zoo                       17359.449541        53001.043501   \n",
       "Clerical, Secretarial & Steno    21394.905197        66009.821043   \n",
       "Dietary & Food                   19300.787905        60295.256688   \n",
       "\n",
       "                               Percent_Total_Benefit  \n",
       "Job Family                                            \n",
       "Public Service Aide                        35.204343  \n",
       "Housekeeping & Laundry                     32.760095  \n",
       "Park & Zoo                                 32.753034  \n",
       "Clerical, Secretarial & Steno              32.411700  \n",
       "Dietary & Food                             32.010458  "
      ]
     },
     "execution_count": 9,
     "metadata": {},
     "output_type": "execute_result"
    }
   ],
   "source": [
    "jf['Percent_Total_Benefit'] = jf['Total Benefits'] * 100 / jf['Total Compensation']\n",
    "jf=jf.sort_values(by='Percent_Total_Benefit', ascending=False).head(n=5)\n",
    "\n",
    "jf.head()"
   ]
  },
  {
   "cell_type": "code",
   "execution_count": null,
   "metadata": {
    "collapsed": true
   },
   "outputs": [],
   "source": []
  }
 ],
 "metadata": {
  "kernelspec": {
   "display_name": "Python [conda root]",
   "language": "python",
   "name": "conda-root-py"
  },
  "language_info": {
   "codemirror_mode": {
    "name": "ipython",
    "version": 3
   },
   "file_extension": ".py",
   "mimetype": "text/x-python",
   "name": "python",
   "nbconvert_exporter": "python",
   "pygments_lexer": "ipython3",
   "version": "3.5.2"
  }
 },
 "nbformat": 4,
 "nbformat_minor": 1
}
